{
 "cells": [
  {
   "cell_type": "code",
   "execution_count": 3,
   "id": "902512d7-7af3-4b5a-9ea6-3a1645d5035a",
   "metadata": {},
   "outputs": [
    {
     "name": "stdout",
     "output_type": "stream",
     "text": [
      "[INFO] Pandas loaded - version 2.2.2\n",
      "[INFO] NumPy loaded - version 1.26.4\n"
     ]
    }
   ],
   "source": [
    "# ********** Setup & Imports ***********\n",
    "import numpy as n\n",
    "import pandas as pd\n",
    "import matplotlib.pyplot as graph\n",
    "import seaborn as ocean\n",
    "import warnings as signal_blocker\n",
    "import os\n",
    "from pathlib import Path as PathAlias\n",
    "\n",
    "# Plotting tweaks\n",
    "ocean.set_palette(\"colorblind\")\n",
    "graph.rcParams.update({'axes.titlesize': 13})\n",
    "\n",
    "# Disable all minor warnings\n",
    "signal_blocker.filterwarnings(\"ignore\")\n",
    "\n",
    "# Pretty Pandas setup\n",
    "pd.set_option('display.max_rows', 100)\n",
    "pd.set_option('display.max_columns', None)\n",
    "\n",
    "# Status prints for peace of mind\n",
    "for lib, ver in zip([\"Pandas\", \"NumPy\"], [pd.__version__, n.__version__]):\n",
    "    print(f\"[INFO] {lib} loaded - version {ver}\")"
   ]
  },
  {
   "cell_type": "code",
   "execution_count": null,
   "id": "39ec4b2c-385b-4086-a845-6c115809239c",
   "metadata": {},
   "outputs": [],
   "source": []
  }
 ],
 "metadata": {
  "kernelspec": {
   "display_name": "Python [conda env:base] *",
   "language": "python",
   "name": "conda-base-py"
  },
  "language_info": {
   "codemirror_mode": {
    "name": "ipython",
    "version": 3
   },
   "file_extension": ".py",
   "mimetype": "text/x-python",
   "name": "python",
   "nbconvert_exporter": "python",
   "pygments_lexer": "ipython3",
   "version": "3.12.7"
  }
 },
 "nbformat": 4,
 "nbformat_minor": 5
}
